{
 "cells": [
  {
   "cell_type": "code",
   "execution_count": 1,
   "id": "d8e9b7ef",
   "metadata": {},
   "outputs": [],
   "source": [
    "import pandas as pd\n",
    "import requests\n",
    "import json"
   ]
  },
  {
   "cell_type": "code",
   "execution_count": 2,
   "id": "5cf53a21",
   "metadata": {},
   "outputs": [
    {
     "data": {
      "text/html": [
       "<div>\n",
       "<style scoped>\n",
       "    .dataframe tbody tr th:only-of-type {\n",
       "        vertical-align: middle;\n",
       "    }\n",
       "\n",
       "    .dataframe tbody tr th {\n",
       "        vertical-align: top;\n",
       "    }\n",
       "\n",
       "    .dataframe thead th {\n",
       "        text-align: right;\n",
       "    }\n",
       "</style>\n",
       "<table border=\"1\" class=\"dataframe\">\n",
       "  <thead>\n",
       "    <tr style=\"text-align: right;\">\n",
       "      <th></th>\n",
       "      <th>id</th>\n",
       "      <th>dialect</th>\n",
       "    </tr>\n",
       "  </thead>\n",
       "  <tbody>\n",
       "    <tr>\n",
       "      <th>0</th>\n",
       "      <td>1175358310087892992</td>\n",
       "      <td>IQ</td>\n",
       "    </tr>\n",
       "    <tr>\n",
       "      <th>1</th>\n",
       "      <td>1175416117793349632</td>\n",
       "      <td>IQ</td>\n",
       "    </tr>\n",
       "    <tr>\n",
       "      <th>2</th>\n",
       "      <td>1175450108898565888</td>\n",
       "      <td>IQ</td>\n",
       "    </tr>\n",
       "    <tr>\n",
       "      <th>3</th>\n",
       "      <td>1175471073770573824</td>\n",
       "      <td>IQ</td>\n",
       "    </tr>\n",
       "    <tr>\n",
       "      <th>4</th>\n",
       "      <td>1175496913145217024</td>\n",
       "      <td>IQ</td>\n",
       "    </tr>\n",
       "  </tbody>\n",
       "</table>\n",
       "</div>"
      ],
      "text/plain": [
       "                    id dialect\n",
       "0  1175358310087892992      IQ\n",
       "1  1175416117793349632      IQ\n",
       "2  1175450108898565888      IQ\n",
       "3  1175471073770573824      IQ\n",
       "4  1175496913145217024      IQ"
      ]
     },
     "execution_count": 2,
     "metadata": {},
     "output_type": "execute_result"
    }
   ],
   "source": [
    "data = pd.read_csv('dialect_dataset.csv')\n",
    "data.head()"
   ]
  },
  {
   "cell_type": "code",
   "execution_count": 3,
   "id": "704155a4",
   "metadata": {},
   "outputs": [],
   "source": [
    "Id = [str(data['id'][i]) for i in range(len(data['id']))]"
   ]
  },
  {
   "cell_type": "markdown",
   "id": "8daa8133",
   "metadata": {},
   "source": [
    "### Retrive the target label"
   ]
  },
  {
   "cell_type": "code",
   "execution_count": 4,
   "id": "450cc9d4",
   "metadata": {},
   "outputs": [],
   "source": [
    "import requests\n",
    "import json\n",
    "\n",
    "URL = 'https://recruitment.aimtechnologies.co/ai-tasks'\n",
    "\n",
    "r = requests.post(URL, data =json.dumps(Id[0:1000]),\n",
    "                  headers={\"Content-Type\": \"application/json\"})\n",
    "\n",
    "res = r.json()"
   ]
  },
  {
   "cell_type": "code",
   "execution_count": 5,
   "id": "56222451",
   "metadata": {},
   "outputs": [],
   "source": [
    "df1 = pd.DataFrame({'id':res.keys(),'text':res.values()})"
   ]
  },
  {
   "cell_type": "code",
   "execution_count": 6,
   "id": "83102fc2",
   "metadata": {},
   "outputs": [],
   "source": [
    "URL = 'https://recruitment.aimtechnologies.co/ai-tasks'\n",
    "\n",
    "def target(df1):\n",
    "    x = 1000\n",
    "    y = 2000\n",
    "    for i in range(459):\n",
    "        r = requests.post(URL,data =json.dumps(Id[x:y]),\n",
    "                      headers={\"Content-Type\": \"application/json\"})\n",
    "        res = r.json()\n",
    "        df2 = pd.DataFrame({'id':res.keys(),'text':res.values()})\n",
    "        x += 1000\n",
    "        y += 1000\n",
    "        \n",
    "        df1 = df1.append(df2)\n",
    "        \n",
    "    return df1\n"
   ]
  },
  {
   "cell_type": "code",
   "execution_count": null,
   "id": "858faf7c",
   "metadata": {},
   "outputs": [],
   "source": [
    "dataframe = target(df1)"
   ]
  },
  {
   "cell_type": "code",
   "execution_count": null,
   "id": "063cae66",
   "metadata": {},
   "outputs": [],
   "source": [
    "len(dataframe)"
   ]
  },
  {
   "cell_type": "markdown",
   "id": "88ac713f",
   "metadata": {},
   "source": [
    "### Merge all data "
   ]
  },
  {
   "cell_type": "code",
   "execution_count": null,
   "id": "491983a7",
   "metadata": {},
   "outputs": [],
   "source": [
    "dataframe['id'] = dataframe['id'].astype('int64')"
   ]
  },
  {
   "cell_type": "code",
   "execution_count": null,
   "id": "e20f3318",
   "metadata": {},
   "outputs": [],
   "source": [
    "df = pd.merge(data,dataframe,on='id',how='inner')\n",
    "df"
   ]
  },
  {
   "cell_type": "code",
   "execution_count": null,
   "id": "9d307fe0",
   "metadata": {},
   "outputs": [],
   "source": [
    "df.to_csv('dataset.csv')"
   ]
  }
 ],
 "metadata": {
  "kernelspec": {
   "display_name": "Python 3",
   "language": "python",
   "name": "python3"
  },
  "language_info": {
   "codemirror_mode": {
    "name": "ipython",
    "version": 3
   },
   "file_extension": ".py",
   "mimetype": "text/x-python",
   "name": "python",
   "nbconvert_exporter": "python",
   "pygments_lexer": "ipython3",
   "version": "3.8.8"
  }
 },
 "nbformat": 4,
 "nbformat_minor": 5
}
