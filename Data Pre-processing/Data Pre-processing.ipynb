{
 "cells": [
  {
   "cell_type": "markdown",
   "id": "9721f415",
   "metadata": {},
   "source": [
    "## Prepare the Data for ML Algorithm\n",
    "\n",
    "* Data Cleaning\n",
    "* Data Normalization\n",
    "* Tokenization\n",
    "* Relabelling \n",
    "\n",
    "**Save the final dataframe for training models**"
   ]
  },
  {
   "cell_type": "code",
   "execution_count": 1,
   "id": "846c0612",
   "metadata": {},
   "outputs": [],
   "source": [
    "import pandas as pd\n",
    "import matplotlib.pyplot as plt\n",
    "import seaborn as sns\n",
    "import string\n",
    "from collections import Counter \n",
    "import re\n",
    "import emoji\n",
    "from nltk.corpus import stopwords \n",
    "from nltk.tokenize import word_tokenize"
   ]
  },
  {
   "cell_type": "code",
   "execution_count": 2,
   "id": "dfac6d85",
   "metadata": {},
   "outputs": [
    {
     "data": {
      "text/html": [
       "<div>\n",
       "<style scoped>\n",
       "    .dataframe tbody tr th:only-of-type {\n",
       "        vertical-align: middle;\n",
       "    }\n",
       "\n",
       "    .dataframe tbody tr th {\n",
       "        vertical-align: top;\n",
       "    }\n",
       "\n",
       "    .dataframe thead th {\n",
       "        text-align: right;\n",
       "    }\n",
       "</style>\n",
       "<table border=\"1\" class=\"dataframe\">\n",
       "  <thead>\n",
       "    <tr style=\"text-align: right;\">\n",
       "      <th></th>\n",
       "      <th>Unnamed: 0</th>\n",
       "      <th>id</th>\n",
       "      <th>dialect</th>\n",
       "      <th>text</th>\n",
       "    </tr>\n",
       "  </thead>\n",
       "  <tbody>\n",
       "    <tr>\n",
       "      <th>0</th>\n",
       "      <td>0</td>\n",
       "      <td>1175358310087892992</td>\n",
       "      <td>IQ</td>\n",
       "      <td>@Nw8ieJUwaCAAreT لكن بالنهاية .. ينتفض .. يغير .</td>\n",
       "    </tr>\n",
       "    <tr>\n",
       "      <th>1</th>\n",
       "      <td>1</td>\n",
       "      <td>1175416117793349632</td>\n",
       "      <td>IQ</td>\n",
       "      <td>@7zNqXP0yrODdRjK يعني هذا محسوب على البشر .. ح...</td>\n",
       "    </tr>\n",
       "    <tr>\n",
       "      <th>2</th>\n",
       "      <td>2</td>\n",
       "      <td>1175450108898565888</td>\n",
       "      <td>IQ</td>\n",
       "      <td>@KanaanRema مبين من كلامه خليجي</td>\n",
       "    </tr>\n",
       "    <tr>\n",
       "      <th>3</th>\n",
       "      <td>3</td>\n",
       "      <td>1175471073770573824</td>\n",
       "      <td>IQ</td>\n",
       "      <td>@HAIDER76128900 يسلملي مرورك وروحك الحلوه💐</td>\n",
       "    </tr>\n",
       "    <tr>\n",
       "      <th>4</th>\n",
       "      <td>4</td>\n",
       "      <td>1175496913145217024</td>\n",
       "      <td>IQ</td>\n",
       "      <td>@hmo2406 وين هل الغيبه  اخ محمد 🌸🌺</td>\n",
       "    </tr>\n",
       "  </tbody>\n",
       "</table>\n",
       "</div>"
      ],
      "text/plain": [
       "   Unnamed: 0                   id dialect  \\\n",
       "0           0  1175358310087892992      IQ   \n",
       "1           1  1175416117793349632      IQ   \n",
       "2           2  1175450108898565888      IQ   \n",
       "3           3  1175471073770573824      IQ   \n",
       "4           4  1175496913145217024      IQ   \n",
       "\n",
       "                                                text  \n",
       "0   @Nw8ieJUwaCAAreT لكن بالنهاية .. ينتفض .. يغير .  \n",
       "1  @7zNqXP0yrODdRjK يعني هذا محسوب على البشر .. ح...  \n",
       "2                    @KanaanRema مبين من كلامه خليجي  \n",
       "3         @HAIDER76128900 يسلملي مرورك وروحك الحلوه💐  \n",
       "4                 @hmo2406 وين هل الغيبه  اخ محمد 🌸🌺  "
      ]
     },
     "execution_count": 2,
     "metadata": {},
     "output_type": "execute_result"
    }
   ],
   "source": [
    "df = pd.read_csv(r\"C:\\Users\\Mohamed Nabil\\Documents\\AIM Task\\Data Fetching\\dataset.csv\")\n",
    "df.head()"
   ]
  },
  {
   "cell_type": "code",
   "execution_count": 3,
   "id": "f45f11bd",
   "metadata": {
    "scrolled": true
   },
   "outputs": [
    {
     "data": {
      "text/plain": [
       "Index(['Unnamed: 0', 'id', 'dialect', 'text'], dtype='object')"
      ]
     },
     "execution_count": 3,
     "metadata": {},
     "output_type": "execute_result"
    }
   ],
   "source": [
    "df.columns"
   ]
  },
  {
   "cell_type": "code",
   "execution_count": 4,
   "id": "0343a2dd",
   "metadata": {},
   "outputs": [],
   "source": [
    "df.drop(['Unnamed: 0','id'],axis=1,inplace=True)"
   ]
  },
  {
   "cell_type": "code",
   "execution_count": 5,
   "id": "a306a43c",
   "metadata": {},
   "outputs": [
    {
     "name": "stdout",
     "output_type": "stream",
     "text": [
      "<class 'pandas.core.frame.DataFrame'>\n",
      "RangeIndex: 458197 entries, 0 to 458196\n",
      "Data columns (total 2 columns):\n",
      " #   Column   Non-Null Count   Dtype \n",
      "---  ------   --------------   ----- \n",
      " 0   dialect  458197 non-null  object\n",
      " 1   text     458197 non-null  object\n",
      "dtypes: object(2)\n",
      "memory usage: 7.0+ MB\n"
     ]
    }
   ],
   "source": [
    "df.info()"
   ]
  },
  {
   "cell_type": "code",
   "execution_count": 6,
   "id": "7394932e",
   "metadata": {},
   "outputs": [
    {
     "data": {
      "text/plain": [
       "dialect    0\n",
       "text       0\n",
       "dtype: int64"
      ]
     },
     "execution_count": 6,
     "metadata": {},
     "output_type": "execute_result"
    }
   ],
   "source": [
    "df.isnull().sum()"
   ]
  },
  {
   "cell_type": "code",
   "execution_count": 7,
   "id": "602c2ffa",
   "metadata": {
    "scrolled": false
   },
   "outputs": [
    {
     "data": {
      "image/png": "[encoded data removed]",
      "text/plain": [
       "<Figure size 720x576 with 1 Axes>"
      ]
     },
     "metadata": {
      "needs_background": "light"
     },
     "output_type": "display_data"
    }
   ],
   "source": [
    "plt.figure(figsize=(10,8))\n",
    "sns.barplot(x = df['dialect'].value_counts().index ,y =df['dialect'].value_counts().values)\n",
    "plt.xlabel('Dialect')\n",
    "plt.title('Number of tweets per dialect')\n",
    "plt.show()"
   ]
  },
  {
   "cell_type": "markdown",
   "id": "da0053e7",
   "metadata": {},
   "source": [
    "    As seen in the figure, The data is imbalanced ):"
   ]
  },
  {
   "cell_type": "markdown",
   "id": "1151c88c",
   "metadata": {},
   "source": [
    "### Data Cleaning & Normlization\n",
    "\n",
    "   *  Remove URLs \n",
    "   *  Remove Punctuatuions.\n",
    "   *  Remove Elongation.\n",
    "   *  Remove Usernames(mentions)\n",
    "   *  Remove emoji\n",
    "   *  Remove Special Characters\n",
    "   *  Remove Numbers\n",
    "   *  Remove Stop words"
   ]
  },
  {
   "cell_type": "code",
   "execution_count": 8,
   "id": "d8d9ab54",
   "metadata": {},
   "outputs": [],
   "source": [
    "# First we define a list of arabic and english punctiations that we want to get rid of in our text\n",
    "punctuations = '''`÷×؛<>_()*&^%][ـ،/:\"؟.,'{}~¦+|!”…“–ـ''' + string.punctuation\n",
    "\n",
    "# Arabic stop words with nltk\n",
    "stop_words = stopwords.words('arabic')\n",
    "\n",
    "arabic_diacritics = re.compile(\"\"\"\n",
    "                             ّ    | # Tashdid\n",
    "                             َ    | # Fatha\n",
    "                             ً    | # Tanwin Fath\n",
    "                             ُ    | # Damma\n",
    "                             ٌ    | # Tanwin Damm\n",
    "                             ِ    | # Kasra\n",
    "                             ٍ    | # Tanwin Kasr\n",
    "                             ْ    | # Sukun\n",
    "                             ـ     # Tatwil/Kashida\n",
    "                         \"\"\", re.VERBOSE)\n",
    "\n",
    "def preprocess(text):\n",
    "    \n",
    "    # Remove usernames\n",
    "    text = re.sub(r'@[^\\s]+','',text)\n",
    "    \n",
    "    # Remove URL\n",
    "    text = re.sub('((www\\.[^\\s]+)|(https?://[^\\s]+))', ' ', text)\n",
    "    \n",
    "    # Remove None arabic \n",
    "    text = re.sub(u\"[^\\u0621-\\u063A\\u0640-\\u0652 ]\", \" \", text)\n",
    "    \n",
    "    # Remove punctuations\n",
    "    translator = str.maketrans('', '', punctuations)\n",
    "    text = text.translate(translator)\n",
    "    \n",
    "    # Remove repeating character\n",
    "    text = re.sub(r'(.)\\1+', r'\\1', text)\n",
    "\n",
    "    # Remove tashkeel\n",
    "    text = re.sub(arabic_diacritics, '', text)\n",
    "    \n",
    "    #Remove elongation\n",
    "    text = re.sub(\"[إأآا]\", \"ا\", text)\n",
    "    text = re.sub(\"ى\", \"ي\", text)\n",
    "    text = re.sub(\"ؤ\", \"ء\", text)\n",
    "    text = re.sub(\"ئ\", \"ء\", text)\n",
    "    text = re.sub(\"ة\", \"ه\", text)\n",
    "    text = re.sub(\"گ\", \"ك\", text)\n",
    "    \n",
    "    # Remove emojis\n",
    "    text=  emoji.demojize(text)\n",
    "    text= re.sub(r'(:[!_\\-\\w]+:)', ' ', text)\n",
    "    \n",
    "    # Remove numbers\n",
    "    text = ''.join(i for i in text if not i.isdigit())\n",
    "    \n",
    "    # Remove stop words\n",
    "    text = ' '.join(word for word in text.split() if word not in stop_words)\n",
    "\n",
    "    return text"
   ]
  },
  {
   "cell_type": "markdown",
   "id": "a7b97c4f",
   "metadata": {},
   "source": [
    "### Apply this function to clean data"
   ]
  },
  {
   "cell_type": "code",
   "execution_count": 9,
   "id": "8dbef979",
   "metadata": {},
   "outputs": [],
   "source": [
    "df['clean_text'] = df['text'].apply(lambda x: preprocess(x))"
   ]
  },
  {
   "cell_type": "code",
   "execution_count": 10,
   "id": "ebb2965b",
   "metadata": {},
   "outputs": [
    {
     "data": {
      "text/html": [
       "<div>\n",
       "<style scoped>\n",
       "    .dataframe tbody tr th:only-of-type {\n",
       "        vertical-align: middle;\n",
       "    }\n",
       "\n",
       "    .dataframe tbody tr th {\n",
       "        vertical-align: top;\n",
       "    }\n",
       "\n",
       "    .dataframe thead th {\n",
       "        text-align: right;\n",
       "    }\n",
       "</style>\n",
       "<table border=\"1\" class=\"dataframe\">\n",
       "  <thead>\n",
       "    <tr style=\"text-align: right;\">\n",
       "      <th></th>\n",
       "      <th>dialect</th>\n",
       "      <th>text</th>\n",
       "      <th>clean_text</th>\n",
       "    </tr>\n",
       "  </thead>\n",
       "  <tbody>\n",
       "    <tr>\n",
       "      <th>0</th>\n",
       "      <td>IQ</td>\n",
       "      <td>@Nw8ieJUwaCAAreT لكن بالنهاية .. ينتفض .. يغير .</td>\n",
       "      <td>بالنهايه ينتفض يغير</td>\n",
       "    </tr>\n",
       "    <tr>\n",
       "      <th>1</th>\n",
       "      <td>IQ</td>\n",
       "      <td>@7zNqXP0yrODdRjK يعني هذا محسوب على البشر .. ح...</td>\n",
       "      <td>يعني محسوب علي البشر حيونه وحشيه وتطلبون الغرب...</td>\n",
       "    </tr>\n",
       "    <tr>\n",
       "      <th>2</th>\n",
       "      <td>IQ</td>\n",
       "      <td>@KanaanRema مبين من كلامه خليجي</td>\n",
       "      <td>مبين كلامه خليجي</td>\n",
       "    </tr>\n",
       "    <tr>\n",
       "      <th>3</th>\n",
       "      <td>IQ</td>\n",
       "      <td>@HAIDER76128900 يسلملي مرورك وروحك الحلوه💐</td>\n",
       "      <td>يسلملي مرورك وروحك الحلوه</td>\n",
       "    </tr>\n",
       "    <tr>\n",
       "      <th>4</th>\n",
       "      <td>IQ</td>\n",
       "      <td>@hmo2406 وين هل الغيبه  اخ محمد 🌸🌺</td>\n",
       "      <td>وين الغيبه اخ محمد</td>\n",
       "    </tr>\n",
       "  </tbody>\n",
       "</table>\n",
       "</div>"
      ],
      "text/plain": [
       "  dialect                                               text  \\\n",
       "0      IQ   @Nw8ieJUwaCAAreT لكن بالنهاية .. ينتفض .. يغير .   \n",
       "1      IQ  @7zNqXP0yrODdRjK يعني هذا محسوب على البشر .. ح...   \n",
       "2      IQ                    @KanaanRema مبين من كلامه خليجي   \n",
       "3      IQ         @HAIDER76128900 يسلملي مرورك وروحك الحلوه💐   \n",
       "4      IQ                 @hmo2406 وين هل الغيبه  اخ محمد 🌸🌺   \n",
       "\n",
       "                                          clean_text  \n",
       "0                                بالنهايه ينتفض يغير  \n",
       "1  يعني محسوب علي البشر حيونه وحشيه وتطلبون الغرب...  \n",
       "2                                   مبين كلامه خليجي  \n",
       "3                          يسلملي مرورك وروحك الحلوه  \n",
       "4                                 وين الغيبه اخ محمد  "
      ]
     },
     "execution_count": 10,
     "metadata": {},
     "output_type": "execute_result"
    }
   ],
   "source": [
    "df.head()"
   ]
  },
  {
   "cell_type": "markdown",
   "id": "19b49b34",
   "metadata": {},
   "source": [
    "### Check missing data"
   ]
  },
  {
   "cell_type": "code",
   "execution_count": 11,
   "id": "b459b862",
   "metadata": {},
   "outputs": [
    {
     "data": {
      "text/plain": [
       "dialect       0\n",
       "text          0\n",
       "clean_text    0\n",
       "dtype: int64"
      ]
     },
     "execution_count": 11,
     "metadata": {},
     "output_type": "execute_result"
    }
   ],
   "source": [
    "df.isnull().sum()"
   ]
  },
  {
   "cell_type": "markdown",
   "id": "ad009ba4",
   "metadata": {},
   "source": [
    "### check duplicated"
   ]
  },
  {
   "cell_type": "code",
   "execution_count": 12,
   "id": "6c0e33d4",
   "metadata": {},
   "outputs": [
    {
     "data": {
      "text/plain": [
       "0"
      ]
     },
     "execution_count": 12,
     "metadata": {},
     "output_type": "execute_result"
    }
   ],
   "source": [
    "df['text'].duplicated().sum()"
   ]
  },
  {
   "cell_type": "markdown",
   "id": "69b9b1fe",
   "metadata": {},
   "source": [
    "### Tokenization\n",
    "Tokenizers divide strings into lists of substrings"
   ]
  },
  {
   "cell_type": "code",
   "execution_count": 13,
   "id": "04e9aadd",
   "metadata": {},
   "outputs": [],
   "source": [
    "df['tokenizer'] = df['clean_text'].apply(lambda x : word_tokenize(x))"
   ]
  },
  {
   "cell_type": "code",
   "execution_count": 14,
   "id": "439a576f",
   "metadata": {},
   "outputs": [
    {
     "data": {
      "text/html": [
       "<div>\n",
       "<style scoped>\n",
       "    .dataframe tbody tr th:only-of-type {\n",
       "        vertical-align: middle;\n",
       "    }\n",
       "\n",
       "    .dataframe tbody tr th {\n",
       "        vertical-align: top;\n",
       "    }\n",
       "\n",
       "    .dataframe thead th {\n",
       "        text-align: right;\n",
       "    }\n",
       "</style>\n",
       "<table border=\"1\" class=\"dataframe\">\n",
       "  <thead>\n",
       "    <tr style=\"text-align: right;\">\n",
       "      <th></th>\n",
       "      <th>dialect</th>\n",
       "      <th>text</th>\n",
       "      <th>clean_text</th>\n",
       "      <th>tokenizer</th>\n",
       "    </tr>\n",
       "  </thead>\n",
       "  <tbody>\n",
       "    <tr>\n",
       "      <th>0</th>\n",
       "      <td>IQ</td>\n",
       "      <td>@Nw8ieJUwaCAAreT لكن بالنهاية .. ينتفض .. يغير .</td>\n",
       "      <td>بالنهايه ينتفض يغير</td>\n",
       "      <td>[بالنهايه, ينتفض, يغير]</td>\n",
       "    </tr>\n",
       "    <tr>\n",
       "      <th>1</th>\n",
       "      <td>IQ</td>\n",
       "      <td>@7zNqXP0yrODdRjK يعني هذا محسوب على البشر .. ح...</td>\n",
       "      <td>يعني محسوب علي البشر حيونه وحشيه وتطلبون الغرب...</td>\n",
       "      <td>[يعني, محسوب, علي, البشر, حيونه, وحشيه, وتطلبو...</td>\n",
       "    </tr>\n",
       "    <tr>\n",
       "      <th>2</th>\n",
       "      <td>IQ</td>\n",
       "      <td>@KanaanRema مبين من كلامه خليجي</td>\n",
       "      <td>مبين كلامه خليجي</td>\n",
       "      <td>[مبين, كلامه, خليجي]</td>\n",
       "    </tr>\n",
       "    <tr>\n",
       "      <th>3</th>\n",
       "      <td>IQ</td>\n",
       "      <td>@HAIDER76128900 يسلملي مرورك وروحك الحلوه💐</td>\n",
       "      <td>يسلملي مرورك وروحك الحلوه</td>\n",
       "      <td>[يسلملي, مرورك, وروحك, الحلوه]</td>\n",
       "    </tr>\n",
       "    <tr>\n",
       "      <th>4</th>\n",
       "      <td>IQ</td>\n",
       "      <td>@hmo2406 وين هل الغيبه  اخ محمد 🌸🌺</td>\n",
       "      <td>وين الغيبه اخ محمد</td>\n",
       "      <td>[وين, الغيبه, اخ, محمد]</td>\n",
       "    </tr>\n",
       "    <tr>\n",
       "      <th>...</th>\n",
       "      <td>...</td>\n",
       "      <td>...</td>\n",
       "      <td>...</td>\n",
       "      <td>...</td>\n",
       "    </tr>\n",
       "    <tr>\n",
       "      <th>458192</th>\n",
       "      <td>BH</td>\n",
       "      <td>@Al_mhbaa_7 مبسوطين منك اللي باسطانا😅</td>\n",
       "      <td>مبسوطين منك الي باسطانا</td>\n",
       "      <td>[مبسوطين, منك, الي, باسطانا]</td>\n",
       "    </tr>\n",
       "    <tr>\n",
       "      <th>458193</th>\n",
       "      <td>BH</td>\n",
       "      <td>@Zzainabali @P_ameerah والله ماينده ابش يختي</td>\n",
       "      <td>واله ماينده ابش يختي</td>\n",
       "      <td>[واله, ماينده, ابش, يختي]</td>\n",
       "    </tr>\n",
       "    <tr>\n",
       "      <th>458194</th>\n",
       "      <td>BH</td>\n",
       "      <td>@Al_mhbaa_7 شو عملنا لك حنا تهربي مننا احنا مس...</td>\n",
       "      <td>شو عملنا حنا تهربي منا احنا مساكين ليش بتعملي ...</td>\n",
       "      <td>[شو, عملنا, حنا, تهربي, منا, احنا, مساكين, ليش...</td>\n",
       "    </tr>\n",
       "    <tr>\n",
       "      <th>458195</th>\n",
       "      <td>BH</td>\n",
       "      <td>@haneenalmwla الله يبارك فيها وبالعافيه 😋😋😋</td>\n",
       "      <td>اله يبارك وبالعافيه</td>\n",
       "      <td>[اله, يبارك, وبالعافيه]</td>\n",
       "    </tr>\n",
       "    <tr>\n",
       "      <th>458196</th>\n",
       "      <td>BH</td>\n",
       "      <td>@jolnar121 السحله ضيفي ي بتطلع لك سحليه😅😅</td>\n",
       "      <td>السحله ضيفي بتطلع سحليه</td>\n",
       "      <td>[السحله, ضيفي, بتطلع, سحليه]</td>\n",
       "    </tr>\n",
       "  </tbody>\n",
       "</table>\n",
       "<p>458197 rows × 4 columns</p>\n",
       "</div>"
      ],
      "text/plain": [
       "       dialect                                               text  \\\n",
       "0           IQ   @Nw8ieJUwaCAAreT لكن بالنهاية .. ينتفض .. يغير .   \n",
       "1           IQ  @7zNqXP0yrODdRjK يعني هذا محسوب على البشر .. ح...   \n",
       "2           IQ                    @KanaanRema مبين من كلامه خليجي   \n",
       "3           IQ         @HAIDER76128900 يسلملي مرورك وروحك الحلوه💐   \n",
       "4           IQ                 @hmo2406 وين هل الغيبه  اخ محمد 🌸🌺   \n",
       "...        ...                                                ...   \n",
       "458192      BH              @Al_mhbaa_7 مبسوطين منك اللي باسطانا😅   \n",
       "458193      BH       @Zzainabali @P_ameerah والله ماينده ابش يختي   \n",
       "458194      BH  @Al_mhbaa_7 شو عملنا لك حنا تهربي مننا احنا مس...   \n",
       "458195      BH        @haneenalmwla الله يبارك فيها وبالعافيه 😋😋😋   \n",
       "458196      BH          @jolnar121 السحله ضيفي ي بتطلع لك سحليه😅😅   \n",
       "\n",
       "                                               clean_text  \\\n",
       "0                                     بالنهايه ينتفض يغير   \n",
       "1       يعني محسوب علي البشر حيونه وحشيه وتطلبون الغرب...   \n",
       "2                                        مبين كلامه خليجي   \n",
       "3                               يسلملي مرورك وروحك الحلوه   \n",
       "4                                      وين الغيبه اخ محمد   \n",
       "...                                                   ...   \n",
       "458192                            مبسوطين منك الي باسطانا   \n",
       "458193                               واله ماينده ابش يختي   \n",
       "458194  شو عملنا حنا تهربي منا احنا مساكين ليش بتعملي ...   \n",
       "458195                                اله يبارك وبالعافيه   \n",
       "458196                            السحله ضيفي بتطلع سحليه   \n",
       "\n",
       "                                                tokenizer  \n",
       "0                                 [بالنهايه, ينتفض, يغير]  \n",
       "1       [يعني, محسوب, علي, البشر, حيونه, وحشيه, وتطلبو...  \n",
       "2                                    [مبين, كلامه, خليجي]  \n",
       "3                          [يسلملي, مرورك, وروحك, الحلوه]  \n",
       "4                                 [وين, الغيبه, اخ, محمد]  \n",
       "...                                                   ...  \n",
       "458192                       [مبسوطين, منك, الي, باسطانا]  \n",
       "458193                          [واله, ماينده, ابش, يختي]  \n",
       "458194  [شو, عملنا, حنا, تهربي, منا, احنا, مساكين, ليش...  \n",
       "458195                            [اله, يبارك, وبالعافيه]  \n",
       "458196                       [السحله, ضيفي, بتطلع, سحليه]  \n",
       "\n",
       "[458197 rows x 4 columns]"
      ]
     },
     "execution_count": 14,
     "metadata": {},
     "output_type": "execute_result"
    }
   ],
   "source": [
    "df"
   ]
  },
  {
   "cell_type": "markdown",
   "id": "5ec84c12",
   "metadata": {},
   "source": [
    "    the 10 most frequent words in each dialect"
   ]
  },
  {
   "cell_type": "code",
   "execution_count": 15,
   "id": "b54a3fb4",
   "metadata": {},
   "outputs": [],
   "source": [
    "def top_words(dialect,n=10): \n",
    "    words = [word for tokens in df[df['dialect']== dialect]['tokenizer'] for word in tokens]\n",
    "    counter = Counter(words)\n",
    "    indicies =[] \n",
    "    counts =[]\n",
    "    words = []\n",
    "    for  i in counter.most_common(n):\n",
    "        words.append(i[0])\n",
    "        indicies.append(i[0][::-1])\n",
    "        counts.append(i[1])\n",
    "    return words"
   ]
  },
  {
   "cell_type": "code",
   "execution_count": 16,
   "id": "aec8e56c",
   "metadata": {},
   "outputs": [
    {
     "data": {
      "text/plain": [
       "['الي', 'مش', 'علي', 'ده', 'انا', 'دي', 'ايه', 'ان', 'كده', 'مصر']"
      ]
     },
     "execution_count": 16,
     "metadata": {},
     "output_type": "execute_result"
    }
   ],
   "source": [
    "top_words('EG' )"
   ]
  },
  {
   "cell_type": "code",
   "execution_count": 17,
   "id": "2d7b2bc9",
   "metadata": {},
   "outputs": [
    {
     "data": {
      "text/plain": [
       "['الي', 'اله', 'علي', 'واله', 'انا', 'ان', 'وش', 'شي', 'اذا', 'الا']"
      ]
     },
     "execution_count": 17,
     "metadata": {},
     "output_type": "execute_result"
    }
   ],
   "source": [
    "top_words('SA' )"
   ]
  },
  {
   "cell_type": "code",
   "execution_count": 18,
   "id": "662fb5c5",
   "metadata": {},
   "outputs": [
    {
     "data": {
      "text/plain": [
       "['الي', 'اله', 'علي', 'شو', 'عم', 'انا', 'شي', 'مو', 'انو', 'واله']"
      ]
     },
     "execution_count": 18,
     "metadata": {},
     "output_type": "execute_result"
    }
   ],
   "source": [
    "top_words('SY' )"
   ]
  },
  {
   "cell_type": "code",
   "execution_count": 19,
   "id": "a7930186",
   "metadata": {},
   "outputs": [
    {
     "data": {
      "text/plain": [
       "['الي', 'علي', 'اله', 'انا', 'مش', 'تونس', 'باش', 'ربي', 'واله', 'برشا']"
      ]
     },
     "execution_count": 19,
     "metadata": {},
     "output_type": "execute_result"
    }
   ],
   "source": [
    "top_words('TN' )"
   ]
  },
  {
   "cell_type": "markdown",
   "id": "6b7b5314",
   "metadata": {},
   "source": [
    "### Relabelling\n",
    "To start i want to train a model that will identify broader areas of dialectical similarity:\n",
    "    \n",
    "    I have put together these groups of dialects. \n",
    "\n",
    "**Nile_Basin**: `Egypt` & `Sudan`\n",
    "\n",
    "**Gulf**: `Saudi Arabia` & `Oman` & `Arab Emirates` & `Bahrain` & `Qatar` & `Kuwait` & `Iraq` & `Yemen`\n",
    "\n",
    "**Levantine**: `Syria` & `Jordan` & `Palestine` & `Lebanon`\n",
    "\n",
    "**Maghrebi**: `Algeria` & `Morocco` & `Tunisia` & `Libya`\n",
    "\n"
   ]
  },
  {
   "cell_type": "code",
   "execution_count": 20,
   "id": "c31b7563",
   "metadata": {},
   "outputs": [
    {
     "data": {
      "text/plain": [
       "array(['IQ', 'LY', 'QA', 'PL', 'SY', 'TN', 'JO', 'MA', 'SA', 'YE', 'DZ',\n",
       "       'EG', 'LB', 'KW', 'OM', 'SD', 'AE', 'BH'], dtype=object)"
      ]
     },
     "execution_count": 20,
     "metadata": {},
     "output_type": "execute_result"
    }
   ],
   "source": [
    "df.dialect.unique()"
   ]
  },
  {
   "cell_type": "code",
   "execution_count": 21,
   "id": "44ac9aa2",
   "metadata": {},
   "outputs": [],
   "source": [
    "def region(dialect):\n",
    "    if dialect in ['SA', 'OM', 'AE','BH', 'QA','KW','IQ','YE']:\n",
    "        return 'Gulf'\n",
    "    elif dialect in ['EG', 'SD']:\n",
    "        return 'Nile_Basin'\n",
    "    elif dialect in ['SY','JO','PL', 'LB']:\n",
    "        return 'Levant'\n",
    "    elif dialect in ['DZ','MA','TN', 'LY']:\n",
    "        return 'Maghreb'\n",
    "    else:\n",
    "        return np.nan"
   ]
  },
  {
   "cell_type": "code",
   "execution_count": 22,
   "id": "d7f69262",
   "metadata": {},
   "outputs": [],
   "source": [
    "df['region_dialect'] = df['dialect'].apply(region)"
   ]
  },
  {
   "cell_type": "code",
   "execution_count": 23,
   "id": "693e135f",
   "metadata": {},
   "outputs": [
    {
     "data": {
      "text/html": [
       "<div>\n",
       "<style scoped>\n",
       "    .dataframe tbody tr th:only-of-type {\n",
       "        vertical-align: middle;\n",
       "    }\n",
       "\n",
       "    .dataframe tbody tr th {\n",
       "        vertical-align: top;\n",
       "    }\n",
       "\n",
       "    .dataframe thead th {\n",
       "        text-align: right;\n",
       "    }\n",
       "</style>\n",
       "<table border=\"1\" class=\"dataframe\">\n",
       "  <thead>\n",
       "    <tr style=\"text-align: right;\">\n",
       "      <th></th>\n",
       "      <th>dialect</th>\n",
       "      <th>text</th>\n",
       "      <th>clean_text</th>\n",
       "      <th>tokenizer</th>\n",
       "      <th>region_dialect</th>\n",
       "    </tr>\n",
       "  </thead>\n",
       "  <tbody>\n",
       "    <tr>\n",
       "      <th>0</th>\n",
       "      <td>IQ</td>\n",
       "      <td>@Nw8ieJUwaCAAreT لكن بالنهاية .. ينتفض .. يغير .</td>\n",
       "      <td>بالنهايه ينتفض يغير</td>\n",
       "      <td>[بالنهايه, ينتفض, يغير]</td>\n",
       "      <td>Gulf</td>\n",
       "    </tr>\n",
       "    <tr>\n",
       "      <th>1</th>\n",
       "      <td>IQ</td>\n",
       "      <td>@7zNqXP0yrODdRjK يعني هذا محسوب على البشر .. ح...</td>\n",
       "      <td>يعني محسوب علي البشر حيونه وحشيه وتطلبون الغرب...</td>\n",
       "      <td>[يعني, محسوب, علي, البشر, حيونه, وحشيه, وتطلبو...</td>\n",
       "      <td>Gulf</td>\n",
       "    </tr>\n",
       "    <tr>\n",
       "      <th>2</th>\n",
       "      <td>IQ</td>\n",
       "      <td>@KanaanRema مبين من كلامه خليجي</td>\n",
       "      <td>مبين كلامه خليجي</td>\n",
       "      <td>[مبين, كلامه, خليجي]</td>\n",
       "      <td>Gulf</td>\n",
       "    </tr>\n",
       "    <tr>\n",
       "      <th>3</th>\n",
       "      <td>IQ</td>\n",
       "      <td>@HAIDER76128900 يسلملي مرورك وروحك الحلوه💐</td>\n",
       "      <td>يسلملي مرورك وروحك الحلوه</td>\n",
       "      <td>[يسلملي, مرورك, وروحك, الحلوه]</td>\n",
       "      <td>Gulf</td>\n",
       "    </tr>\n",
       "    <tr>\n",
       "      <th>4</th>\n",
       "      <td>IQ</td>\n",
       "      <td>@hmo2406 وين هل الغيبه  اخ محمد 🌸🌺</td>\n",
       "      <td>وين الغيبه اخ محمد</td>\n",
       "      <td>[وين, الغيبه, اخ, محمد]</td>\n",
       "      <td>Gulf</td>\n",
       "    </tr>\n",
       "    <tr>\n",
       "      <th>...</th>\n",
       "      <td>...</td>\n",
       "      <td>...</td>\n",
       "      <td>...</td>\n",
       "      <td>...</td>\n",
       "      <td>...</td>\n",
       "    </tr>\n",
       "    <tr>\n",
       "      <th>458192</th>\n",
       "      <td>BH</td>\n",
       "      <td>@Al_mhbaa_7 مبسوطين منك اللي باسطانا😅</td>\n",
       "      <td>مبسوطين منك الي باسطانا</td>\n",
       "      <td>[مبسوطين, منك, الي, باسطانا]</td>\n",
       "      <td>Gulf</td>\n",
       "    </tr>\n",
       "    <tr>\n",
       "      <th>458193</th>\n",
       "      <td>BH</td>\n",
       "      <td>@Zzainabali @P_ameerah والله ماينده ابش يختي</td>\n",
       "      <td>واله ماينده ابش يختي</td>\n",
       "      <td>[واله, ماينده, ابش, يختي]</td>\n",
       "      <td>Gulf</td>\n",
       "    </tr>\n",
       "    <tr>\n",
       "      <th>458194</th>\n",
       "      <td>BH</td>\n",
       "      <td>@Al_mhbaa_7 شو عملنا لك حنا تهربي مننا احنا مس...</td>\n",
       "      <td>شو عملنا حنا تهربي منا احنا مساكين ليش بتعملي ...</td>\n",
       "      <td>[شو, عملنا, حنا, تهربي, منا, احنا, مساكين, ليش...</td>\n",
       "      <td>Gulf</td>\n",
       "    </tr>\n",
       "    <tr>\n",
       "      <th>458195</th>\n",
       "      <td>BH</td>\n",
       "      <td>@haneenalmwla الله يبارك فيها وبالعافيه 😋😋😋</td>\n",
       "      <td>اله يبارك وبالعافيه</td>\n",
       "      <td>[اله, يبارك, وبالعافيه]</td>\n",
       "      <td>Gulf</td>\n",
       "    </tr>\n",
       "    <tr>\n",
       "      <th>458196</th>\n",
       "      <td>BH</td>\n",
       "      <td>@jolnar121 السحله ضيفي ي بتطلع لك سحليه😅😅</td>\n",
       "      <td>السحله ضيفي بتطلع سحليه</td>\n",
       "      <td>[السحله, ضيفي, بتطلع, سحليه]</td>\n",
       "      <td>Gulf</td>\n",
       "    </tr>\n",
       "  </tbody>\n",
       "</table>\n",
       "<p>458197 rows × 5 columns</p>\n",
       "</div>"
      ],
      "text/plain": [
       "       dialect                                               text  \\\n",
       "0           IQ   @Nw8ieJUwaCAAreT لكن بالنهاية .. ينتفض .. يغير .   \n",
       "1           IQ  @7zNqXP0yrODdRjK يعني هذا محسوب على البشر .. ح...   \n",
       "2           IQ                    @KanaanRema مبين من كلامه خليجي   \n",
       "3           IQ         @HAIDER76128900 يسلملي مرورك وروحك الحلوه💐   \n",
       "4           IQ                 @hmo2406 وين هل الغيبه  اخ محمد 🌸🌺   \n",
       "...        ...                                                ...   \n",
       "458192      BH              @Al_mhbaa_7 مبسوطين منك اللي باسطانا😅   \n",
       "458193      BH       @Zzainabali @P_ameerah والله ماينده ابش يختي   \n",
       "458194      BH  @Al_mhbaa_7 شو عملنا لك حنا تهربي مننا احنا مس...   \n",
       "458195      BH        @haneenalmwla الله يبارك فيها وبالعافيه 😋😋😋   \n",
       "458196      BH          @jolnar121 السحله ضيفي ي بتطلع لك سحليه😅😅   \n",
       "\n",
       "                                               clean_text  \\\n",
       "0                                     بالنهايه ينتفض يغير   \n",
       "1       يعني محسوب علي البشر حيونه وحشيه وتطلبون الغرب...   \n",
       "2                                        مبين كلامه خليجي   \n",
       "3                               يسلملي مرورك وروحك الحلوه   \n",
       "4                                      وين الغيبه اخ محمد   \n",
       "...                                                   ...   \n",
       "458192                            مبسوطين منك الي باسطانا   \n",
       "458193                               واله ماينده ابش يختي   \n",
       "458194  شو عملنا حنا تهربي منا احنا مساكين ليش بتعملي ...   \n",
       "458195                                اله يبارك وبالعافيه   \n",
       "458196                            السحله ضيفي بتطلع سحليه   \n",
       "\n",
       "                                                tokenizer region_dialect  \n",
       "0                                 [بالنهايه, ينتفض, يغير]           Gulf  \n",
       "1       [يعني, محسوب, علي, البشر, حيونه, وحشيه, وتطلبو...           Gulf  \n",
       "2                                    [مبين, كلامه, خليجي]           Gulf  \n",
       "3                          [يسلملي, مرورك, وروحك, الحلوه]           Gulf  \n",
       "4                                 [وين, الغيبه, اخ, محمد]           Gulf  \n",
       "...                                                   ...            ...  \n",
       "458192                       [مبسوطين, منك, الي, باسطانا]           Gulf  \n",
       "458193                          [واله, ماينده, ابش, يختي]           Gulf  \n",
       "458194  [شو, عملنا, حنا, تهربي, منا, احنا, مساكين, ليش...           Gulf  \n",
       "458195                            [اله, يبارك, وبالعافيه]           Gulf  \n",
       "458196                       [السحله, ضيفي, بتطلع, سحليه]           Gulf  \n",
       "\n",
       "[458197 rows x 5 columns]"
      ]
     },
     "execution_count": 23,
     "metadata": {},
     "output_type": "execute_result"
    }
   ],
   "source": [
    "df"
   ]
  },
  {
   "cell_type": "code",
   "execution_count": 24,
   "id": "934ec78a",
   "metadata": {},
   "outputs": [],
   "source": [
    "df.to_csv('clean_dataset.csv')"
   ]
  },
  {
   "cell_type": "markdown",
   "id": "8d49d044",
   "metadata": {},
   "source": [
    "### Resources\n",
    "* Preprocessing Arabic text on social media <a href=\"https://www.sciencedirect.com/science/article/pii/S2405844021002966\" title=\"Learn Markdown\">Research Article</a>\n",
    "\n",
    "* Machine learning advancements in Arabic NLP <a href=\"https://towardsdatascience.com/machine-learning-advancements-in-arabic-nlp-c6982b2f602b\">here</a>\n",
    "\n",
    "* Arabic NLP: Unique Challenges and Their Solutions <a href=\"https://towardsdatascience.com/arabic-nlp-unique-challenges-and-their-solutions-d99e8a87893d\">here</a>\n",
    "\n"
   ]
  }
 ],
 "metadata": {
  "kernelspec": {
   "display_name": "Python 3",
   "language": "python",
   "name": "python3"
  },
  "language_info": {
   "codemirror_mode": {
    "name": "ipython",
    "version": 3
   },
   "file_extension": ".py",
   "mimetype": "text/x-python",
   "name": "python",
   "nbconvert_exporter": "python",
   "pygments_lexer": "ipython3",
   "version": "3.8.8"
  }
 },
 "nbformat": 4,
 "nbformat_minor": 5
}
