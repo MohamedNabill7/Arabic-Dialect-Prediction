{
 "cells": [
  {
   "cell_type": "code",
   "execution_count": 1,
   "id": "2623c672",
   "metadata": {},
   "outputs": [],
   "source": [
    "from Utils import preprocess\n",
    "from joblib import load\n",
    "from flask import Flask, request, jsonify, render_template\n",
    "\n",
    "\n",
    "model = load(r\"C:\\Users\\Mohamed Nabil\\Documents\\AIM Task\\Modeling\\ML_dialect.joblib\")\n",
    "\n",
    "labels = {'SA':'Saudi Arabia','QA':'Qatar','KW':'Kuwait','OM':'Oman','AE':'Arab Emirates','BH':'Bahrain',\n",
    "          'IQ':'Iraq','YE':'Yemen','EG':'Egypt','SD':'Sudan','SY':'Syria','JO':'Jordan',\n",
    "          'PL':'Palestine','LB':'Lebanon','DZ':'Algeria','MA':'Morocco','TN':'Tunisia','LY':'Libya'}"
   ]
  },
  {
   "cell_type": "code",
   "execution_count": 2,
   "id": "112f6c23",
   "metadata": {},
   "outputs": [
    {
     "name": "stdout",
     "output_type": "stream",
     "text": [
      " * Serving Flask app \"__main__\" (lazy loading)\n",
      " * Environment: production\n",
      "   WARNING: This is a development server. Do not use it in a production deployment.\n",
      "   Use a production WSGI server instead.\n",
      " * Debug mode: off\n"
     ]
    },
    {
     "name": "stderr",
     "output_type": "stream",
     "text": [
      " * Running on http://127.0.0.1:5000/ (Press CTRL+C to quit)\n",
      "127.0.0.1 - - [13/Mar/2022 23:43:03] \"\u001b[37mGET / HTTP/1.1\u001b[0m\" 200 -\n",
      "127.0.0.1 - - [13/Mar/2022 23:43:28] \"\u001b[37mPOST /predict HTTP/1.1\u001b[0m\" 200 -\n",
      "127.0.0.1 - - [13/Mar/2022 23:43:38] \"\u001b[37mPOST /predict HTTP/1.1\u001b[0m\" 200 -\n",
      "127.0.0.1 - - [13/Mar/2022 23:43:58] \"\u001b[37mPOST /predict HTTP/1.1\u001b[0m\" 200 -\n",
      "127.0.0.1 - - [13/Mar/2022 23:44:04] \"\u001b[37mPOST /predict HTTP/1.1\u001b[0m\" 200 -\n",
      "127.0.0.1 - - [13/Mar/2022 23:44:08] \"\u001b[37mPOST /predict HTTP/1.1\u001b[0m\" 200 -\n"
     ]
    }
   ],
   "source": [
    "# Initialize the app\n",
    "app = Flask(__name__)\n",
    "\n",
    "\n",
    "@app.route('/')\n",
    "def home():\n",
    "    return render_template('predictor.html')\n",
    "\n",
    "\n",
    "@app.route('/predict', methods = ['POST'])\n",
    "def predict():\n",
    "    sentence = request.form['sentence']\n",
    "    data = [preprocess(sentence)]\n",
    "        \n",
    "    if model.predict(data)[0] in labels.keys():\n",
    "        pred = labels[model.predict(data)[0]]\n",
    "        \n",
    "    return render_template('predictor.html', \n",
    "                           answer = pred)\n",
    "\n",
    "# Start the server, continuously listen to requests.\n",
    "if __name__==\"__main__\":\n",
    "    app.run(debug=False)"
   ]
  },
  {
   "cell_type": "code",
   "execution_count": null,
   "id": "27c1b527",
   "metadata": {},
   "outputs": [],
   "source": []
  }
 ],
 "metadata": {
  "kernelspec": {
   "display_name": "Python 3",
   "language": "python",
   "name": "python3"
  },
  "language_info": {
   "codemirror_mode": {
    "name": "ipython",
    "version": 3
   },
   "file_extension": ".py",
   "mimetype": "text/x-python",
   "name": "python",
   "nbconvert_exporter": "python",
   "pygments_lexer": "ipython3",
   "version": "3.8.8"
  }
 },
 "nbformat": 4,
 "nbformat_minor": 5
}
