{
 "cells": [
  {
   "cell_type": "code",
   "execution_count": 1,
   "id": "539a88bb",
   "metadata": {},
   "outputs": [],
   "source": [
    "import pandas as pd\n",
    "from sklearn.model_selection import train_test_split , cross_val_score \n",
    "from sklearn.feature_extraction.text import TfidfTransformer , CountVectorizer\n",
    "from sklearn.svm import LinearSVC\n",
    "from sklearn.naive_bayes import MultinomialNB \n",
    "from sklearn.pipeline import Pipeline\n",
    "from sklearn.metrics import accuracy_score , classification_report , confusion_matrix\n",
    "\n",
    "from joblib import dump"
   ]
  },
  {
   "cell_type": "code",
   "execution_count": 3,
   "id": "08bb8873",
   "metadata": {},
   "outputs": [
    {
     "data": {
      "text/html": [
       "<div>\n",
       "<style scoped>\n",
       "    .dataframe tbody tr th:only-of-type {\n",
       "        vertical-align: middle;\n",
       "    }\n",
       "\n",
       "    .dataframe tbody tr th {\n",
       "        vertical-align: top;\n",
       "    }\n",
       "\n",
       "    .dataframe thead th {\n",
       "        text-align: right;\n",
       "    }\n",
       "</style>\n",
       "<table border=\"1\" class=\"dataframe\">\n",
       "  <thead>\n",
       "    <tr style=\"text-align: right;\">\n",
       "      <th></th>\n",
       "      <th>Unnamed: 0</th>\n",
       "      <th>dialect</th>\n",
       "      <th>text</th>\n",
       "      <th>clean_text</th>\n",
       "      <th>tokenizer</th>\n",
       "      <th>region_dialect</th>\n",
       "    </tr>\n",
       "  </thead>\n",
       "  <tbody>\n",
       "    <tr>\n",
       "      <th>0</th>\n",
       "      <td>0</td>\n",
       "      <td>IQ</td>\n",
       "      <td>@Nw8ieJUwaCAAreT لكن بالنهاية .. ينتفض .. يغير .</td>\n",
       "      <td>بالنهايه ينتفض يغير</td>\n",
       "      <td>['بالنهايه', 'ينتفض', 'يغير']</td>\n",
       "      <td>Gulf</td>\n",
       "    </tr>\n",
       "    <tr>\n",
       "      <th>1</th>\n",
       "      <td>1</td>\n",
       "      <td>IQ</td>\n",
       "      <td>@7zNqXP0yrODdRjK يعني هذا محسوب على البشر .. ح...</td>\n",
       "      <td>يعني محسوب علي البشر حيونه وحشيه وتطلبون الغرب...</td>\n",
       "      <td>['يعني', 'محسوب', 'علي', 'البشر', 'حيونه', 'وح...</td>\n",
       "      <td>Gulf</td>\n",
       "    </tr>\n",
       "    <tr>\n",
       "      <th>2</th>\n",
       "      <td>2</td>\n",
       "      <td>IQ</td>\n",
       "      <td>@KanaanRema مبين من كلامه خليجي</td>\n",
       "      <td>مبين كلامه خليجي</td>\n",
       "      <td>['مبين', 'كلامه', 'خليجي']</td>\n",
       "      <td>Gulf</td>\n",
       "    </tr>\n",
       "    <tr>\n",
       "      <th>3</th>\n",
       "      <td>3</td>\n",
       "      <td>IQ</td>\n",
       "      <td>@HAIDER76128900 يسلملي مرورك وروحك الحلوه💐</td>\n",
       "      <td>يسلملي مرورك وروحك الحلوه</td>\n",
       "      <td>['يسلملي', 'مرورك', 'وروحك', 'الحلوه']</td>\n",
       "      <td>Gulf</td>\n",
       "    </tr>\n",
       "    <tr>\n",
       "      <th>4</th>\n",
       "      <td>4</td>\n",
       "      <td>IQ</td>\n",
       "      <td>@hmo2406 وين هل الغيبه  اخ محمد 🌸🌺</td>\n",
       "      <td>وين الغيبه اخ محمد</td>\n",
       "      <td>['وين', 'الغيبه', 'اخ', 'محمد']</td>\n",
       "      <td>Gulf</td>\n",
       "    </tr>\n",
       "  </tbody>\n",
       "</table>\n",
       "</div>"
      ],
      "text/plain": [
       "   Unnamed: 0 dialect                                               text  \\\n",
       "0           0      IQ   @Nw8ieJUwaCAAreT لكن بالنهاية .. ينتفض .. يغير .   \n",
       "1           1      IQ  @7zNqXP0yrODdRjK يعني هذا محسوب على البشر .. ح...   \n",
       "2           2      IQ                    @KanaanRema مبين من كلامه خليجي   \n",
       "3           3      IQ         @HAIDER76128900 يسلملي مرورك وروحك الحلوه💐   \n",
       "4           4      IQ                 @hmo2406 وين هل الغيبه  اخ محمد 🌸🌺   \n",
       "\n",
       "                                          clean_text  \\\n",
       "0                                بالنهايه ينتفض يغير   \n",
       "1  يعني محسوب علي البشر حيونه وحشيه وتطلبون الغرب...   \n",
       "2                                   مبين كلامه خليجي   \n",
       "3                          يسلملي مرورك وروحك الحلوه   \n",
       "4                                 وين الغيبه اخ محمد   \n",
       "\n",
       "                                           tokenizer region_dialect  \n",
       "0                      ['بالنهايه', 'ينتفض', 'يغير']           Gulf  \n",
       "1  ['يعني', 'محسوب', 'علي', 'البشر', 'حيونه', 'وح...           Gulf  \n",
       "2                         ['مبين', 'كلامه', 'خليجي']           Gulf  \n",
       "3             ['يسلملي', 'مرورك', 'وروحك', 'الحلوه']           Gulf  \n",
       "4                    ['وين', 'الغيبه', 'اخ', 'محمد']           Gulf  "
      ]
     },
     "execution_count": 3,
     "metadata": {},
     "output_type": "execute_result"
    }
   ],
   "source": [
    "df = pd.read_csv(r\"C:\\Users\\Mohamed Nabil\\Documents\\AIM Task\\Data Pre-processing\\clean_dataset.csv\")\n",
    "df.head()"
   ]
  },
  {
   "cell_type": "code",
   "execution_count": 4,
   "id": "54632930",
   "metadata": {},
   "outputs": [
    {
     "data": {
      "text/plain": [
       "Index(['Unnamed: 0', 'dialect', 'text', 'clean_text', 'tokenizer',\n",
       "       'region_dialect'],\n",
       "      dtype='object')"
      ]
     },
     "execution_count": 4,
     "metadata": {},
     "output_type": "execute_result"
    }
   ],
   "source": [
    "df.columns"
   ]
  },
  {
   "cell_type": "code",
   "execution_count": 5,
   "id": "f77a0228",
   "metadata": {},
   "outputs": [],
   "source": [
    "df.drop('Unnamed: 0',axis=1,inplace=True)"
   ]
  },
  {
   "cell_type": "code",
   "execution_count": 6,
   "id": "924554da",
   "metadata": {},
   "outputs": [
    {
     "data": {
      "text/html": [
       "<div>\n",
       "<style scoped>\n",
       "    .dataframe tbody tr th:only-of-type {\n",
       "        vertical-align: middle;\n",
       "    }\n",
       "\n",
       "    .dataframe tbody tr th {\n",
       "        vertical-align: top;\n",
       "    }\n",
       "\n",
       "    .dataframe thead th {\n",
       "        text-align: right;\n",
       "    }\n",
       "</style>\n",
       "<table border=\"1\" class=\"dataframe\">\n",
       "  <thead>\n",
       "    <tr style=\"text-align: right;\">\n",
       "      <th></th>\n",
       "      <th>dialect</th>\n",
       "      <th>text</th>\n",
       "      <th>clean_text</th>\n",
       "      <th>tokenizer</th>\n",
       "      <th>region_dialect</th>\n",
       "    </tr>\n",
       "  </thead>\n",
       "  <tbody>\n",
       "    <tr>\n",
       "      <th>0</th>\n",
       "      <td>IQ</td>\n",
       "      <td>@Nw8ieJUwaCAAreT لكن بالنهاية .. ينتفض .. يغير .</td>\n",
       "      <td>بالنهايه ينتفض يغير</td>\n",
       "      <td>['بالنهايه', 'ينتفض', 'يغير']</td>\n",
       "      <td>Gulf</td>\n",
       "    </tr>\n",
       "    <tr>\n",
       "      <th>1</th>\n",
       "      <td>IQ</td>\n",
       "      <td>@7zNqXP0yrODdRjK يعني هذا محسوب على البشر .. ح...</td>\n",
       "      <td>يعني محسوب علي البشر حيونه وحشيه وتطلبون الغرب...</td>\n",
       "      <td>['يعني', 'محسوب', 'علي', 'البشر', 'حيونه', 'وح...</td>\n",
       "      <td>Gulf</td>\n",
       "    </tr>\n",
       "    <tr>\n",
       "      <th>2</th>\n",
       "      <td>IQ</td>\n",
       "      <td>@KanaanRema مبين من كلامه خليجي</td>\n",
       "      <td>مبين كلامه خليجي</td>\n",
       "      <td>['مبين', 'كلامه', 'خليجي']</td>\n",
       "      <td>Gulf</td>\n",
       "    </tr>\n",
       "    <tr>\n",
       "      <th>3</th>\n",
       "      <td>IQ</td>\n",
       "      <td>@HAIDER76128900 يسلملي مرورك وروحك الحلوه💐</td>\n",
       "      <td>يسلملي مرورك وروحك الحلوه</td>\n",
       "      <td>['يسلملي', 'مرورك', 'وروحك', 'الحلوه']</td>\n",
       "      <td>Gulf</td>\n",
       "    </tr>\n",
       "    <tr>\n",
       "      <th>4</th>\n",
       "      <td>IQ</td>\n",
       "      <td>@hmo2406 وين هل الغيبه  اخ محمد 🌸🌺</td>\n",
       "      <td>وين الغيبه اخ محمد</td>\n",
       "      <td>['وين', 'الغيبه', 'اخ', 'محمد']</td>\n",
       "      <td>Gulf</td>\n",
       "    </tr>\n",
       "    <tr>\n",
       "      <th>...</th>\n",
       "      <td>...</td>\n",
       "      <td>...</td>\n",
       "      <td>...</td>\n",
       "      <td>...</td>\n",
       "      <td>...</td>\n",
       "    </tr>\n",
       "    <tr>\n",
       "      <th>458192</th>\n",
       "      <td>BH</td>\n",
       "      <td>@Al_mhbaa_7 مبسوطين منك اللي باسطانا😅</td>\n",
       "      <td>مبسوطين منك الي باسطانا</td>\n",
       "      <td>['مبسوطين', 'منك', 'الي', 'باسطانا']</td>\n",
       "      <td>Gulf</td>\n",
       "    </tr>\n",
       "    <tr>\n",
       "      <th>458193</th>\n",
       "      <td>BH</td>\n",
       "      <td>@Zzainabali @P_ameerah والله ماينده ابش يختي</td>\n",
       "      <td>واله ماينده ابش يختي</td>\n",
       "      <td>['واله', 'ماينده', 'ابش', 'يختي']</td>\n",
       "      <td>Gulf</td>\n",
       "    </tr>\n",
       "    <tr>\n",
       "      <th>458194</th>\n",
       "      <td>BH</td>\n",
       "      <td>@Al_mhbaa_7 شو عملنا لك حنا تهربي مننا احنا مس...</td>\n",
       "      <td>شو عملنا حنا تهربي منا احنا مساكين ليش بتعملي ...</td>\n",
       "      <td>['شو', 'عملنا', 'حنا', 'تهربي', 'منا', 'احنا',...</td>\n",
       "      <td>Gulf</td>\n",
       "    </tr>\n",
       "    <tr>\n",
       "      <th>458195</th>\n",
       "      <td>BH</td>\n",
       "      <td>@haneenalmwla الله يبارك فيها وبالعافيه 😋😋😋</td>\n",
       "      <td>اله يبارك وبالعافيه</td>\n",
       "      <td>['اله', 'يبارك', 'وبالعافيه']</td>\n",
       "      <td>Gulf</td>\n",
       "    </tr>\n",
       "    <tr>\n",
       "      <th>458196</th>\n",
       "      <td>BH</td>\n",
       "      <td>@jolnar121 السحله ضيفي ي بتطلع لك سحليه😅😅</td>\n",
       "      <td>السحله ضيفي بتطلع سحليه</td>\n",
       "      <td>['السحله', 'ضيفي', 'بتطلع', 'سحليه']</td>\n",
       "      <td>Gulf</td>\n",
       "    </tr>\n",
       "  </tbody>\n",
       "</table>\n",
       "<p>458197 rows × 5 columns</p>\n",
       "</div>"
      ],
      "text/plain": [
       "       dialect                                               text  \\\n",
       "0           IQ   @Nw8ieJUwaCAAreT لكن بالنهاية .. ينتفض .. يغير .   \n",
       "1           IQ  @7zNqXP0yrODdRjK يعني هذا محسوب على البشر .. ح...   \n",
       "2           IQ                    @KanaanRema مبين من كلامه خليجي   \n",
       "3           IQ         @HAIDER76128900 يسلملي مرورك وروحك الحلوه💐   \n",
       "4           IQ                 @hmo2406 وين هل الغيبه  اخ محمد 🌸🌺   \n",
       "...        ...                                                ...   \n",
       "458192      BH              @Al_mhbaa_7 مبسوطين منك اللي باسطانا😅   \n",
       "458193      BH       @Zzainabali @P_ameerah والله ماينده ابش يختي   \n",
       "458194      BH  @Al_mhbaa_7 شو عملنا لك حنا تهربي مننا احنا مس...   \n",
       "458195      BH        @haneenalmwla الله يبارك فيها وبالعافيه 😋😋😋   \n",
       "458196      BH          @jolnar121 السحله ضيفي ي بتطلع لك سحليه😅😅   \n",
       "\n",
       "                                               clean_text  \\\n",
       "0                                     بالنهايه ينتفض يغير   \n",
       "1       يعني محسوب علي البشر حيونه وحشيه وتطلبون الغرب...   \n",
       "2                                        مبين كلامه خليجي   \n",
       "3                               يسلملي مرورك وروحك الحلوه   \n",
       "4                                      وين الغيبه اخ محمد   \n",
       "...                                                   ...   \n",
       "458192                            مبسوطين منك الي باسطانا   \n",
       "458193                               واله ماينده ابش يختي   \n",
       "458194  شو عملنا حنا تهربي منا احنا مساكين ليش بتعملي ...   \n",
       "458195                                اله يبارك وبالعافيه   \n",
       "458196                            السحله ضيفي بتطلع سحليه   \n",
       "\n",
       "                                                tokenizer region_dialect  \n",
       "0                           ['بالنهايه', 'ينتفض', 'يغير']           Gulf  \n",
       "1       ['يعني', 'محسوب', 'علي', 'البشر', 'حيونه', 'وح...           Gulf  \n",
       "2                              ['مبين', 'كلامه', 'خليجي']           Gulf  \n",
       "3                  ['يسلملي', 'مرورك', 'وروحك', 'الحلوه']           Gulf  \n",
       "4                         ['وين', 'الغيبه', 'اخ', 'محمد']           Gulf  \n",
       "...                                                   ...            ...  \n",
       "458192               ['مبسوطين', 'منك', 'الي', 'باسطانا']           Gulf  \n",
       "458193                  ['واله', 'ماينده', 'ابش', 'يختي']           Gulf  \n",
       "458194  ['شو', 'عملنا', 'حنا', 'تهربي', 'منا', 'احنا',...           Gulf  \n",
       "458195                      ['اله', 'يبارك', 'وبالعافيه']           Gulf  \n",
       "458196               ['السحله', 'ضيفي', 'بتطلع', 'سحليه']           Gulf  \n",
       "\n",
       "[458197 rows x 5 columns]"
      ]
     },
     "execution_count": 6,
     "metadata": {},
     "output_type": "execute_result"
    }
   ],
   "source": [
    "df"
   ]
  },
  {
   "cell_type": "code",
   "execution_count": 7,
   "id": "036e8bc1",
   "metadata": {},
   "outputs": [
    {
     "data": {
      "text/plain": [
       "dialect             0\n",
       "text                0\n",
       "clean_text        244\n",
       "tokenizer           0\n",
       "region_dialect      0\n",
       "dtype: int64"
      ]
     },
     "execution_count": 7,
     "metadata": {},
     "output_type": "execute_result"
    }
   ],
   "source": [
    "df.isnull().sum()"
   ]
  },
  {
   "cell_type": "code",
   "execution_count": 8,
   "id": "dc7e16a7",
   "metadata": {},
   "outputs": [],
   "source": [
    "df.dropna(axis=0,inplace=True)"
   ]
  },
  {
   "cell_type": "markdown",
   "id": "867a9a00",
   "metadata": {},
   "source": [
    "### Let's try `clean_text` column as a data with both of `dialect & region_dialect` as a target"
   ]
  },
  {
   "cell_type": "markdown",
   "id": "86fd145b",
   "metadata": {},
   "source": [
    "#### For `dialect` column as a target"
   ]
  },
  {
   "cell_type": "code",
   "execution_count": 9,
   "id": "a210417d",
   "metadata": {},
   "outputs": [],
   "source": [
    "num_seed = 123"
   ]
  },
  {
   "cell_type": "code",
   "execution_count": 10,
   "id": "21cb55b2",
   "metadata": {},
   "outputs": [],
   "source": [
    "def train_test(data,target):\n",
    "  \n",
    "    x = df[data].astype(str)\n",
    "    y = df[target].astype('category')\n",
    "\n",
    "    x_train, x_test, y_train, y_test = train_test_split(x,y, test_size=0.3,random_state=num_seed, stratify=y ,shuffle=True)\n",
    "\n",
    "    return x_train, x_test, y_train, y_test"
   ]
  },
  {
   "cell_type": "code",
   "execution_count": 11,
   "id": "c9d62fd4",
   "metadata": {},
   "outputs": [],
   "source": [
    "X_train, X_test, y_train, y_test = train_test('clean_text','dialect')"
   ]
  },
  {
   "cell_type": "code",
   "execution_count": null,
   "id": "6926f53b",
   "metadata": {},
   "outputs": [],
   "source": [
    "#feature extractin starts with counting the unique features\n",
    "count_vect = CountVectorizer()\n",
    "X_train_counts = count_vect.fit_transform(X_train)\n",
    "\n",
    "#then transforms the features\n",
    "tf_transformer = TfidfTransformer(use_idf=False).fit(X_train_counts)\n",
    "X_train_tf = tf_transformer.transform(X_train_counts)"
   ]
  },
  {
   "cell_type": "code",
   "execution_count": 12,
   "id": "a116aa16",
   "metadata": {},
   "outputs": [],
   "source": [
    "features = X_train_tf\n",
    "labels = y_train"
   ]
  },
  {
   "cell_type": "code",
   "execution_count": 13,
   "id": "06d7e3b5",
   "metadata": {},
   "outputs": [],
   "source": [
    "models = [\n",
    "    LinearSVC(random_state=num_seed, tol=1e-5),\n",
    "    MultinomialNB()\n",
    "        ]\n",
    "\n",
    "CV = 5\n",
    "cv_df = pd.DataFrame(index=range(CV * len(models)))\n",
    "entries = []\n",
    "for model in models:\n",
    "    model_name = model.__class__.__name__\n",
    "    accuracies = cross_val_score(model, features, labels, scoring='accuracy', cv=CV)\n",
    "    for fold_idx, accuracy in enumerate(accuracies):\n",
    "        entries.append((model_name, fold_idx, accuracy))\n",
    "\n",
    "cv_df = pd.DataFrame(entries, columns=['model_name', 'fold_idx', 'accuracy'])"
   ]
  },
  {
   "cell_type": "code",
   "execution_count": 14,
   "id": "79fd0cfd",
   "metadata": {},
   "outputs": [
    {
     "data": {
      "text/html": [
       "<div>\n",
       "<style scoped>\n",
       "    .dataframe tbody tr th:only-of-type {\n",
       "        vertical-align: middle;\n",
       "    }\n",
       "\n",
       "    .dataframe tbody tr th {\n",
       "        vertical-align: top;\n",
       "    }\n",
       "\n",
       "    .dataframe thead th {\n",
       "        text-align: right;\n",
       "    }\n",
       "</style>\n",
       "<table border=\"1\" class=\"dataframe\">\n",
       "  <thead>\n",
       "    <tr style=\"text-align: right;\">\n",
       "      <th></th>\n",
       "      <th>model_name</th>\n",
       "      <th>fold_idx</th>\n",
       "      <th>accuracy</th>\n",
       "    </tr>\n",
       "  </thead>\n",
       "  <tbody>\n",
       "    <tr>\n",
       "      <th>0</th>\n",
       "      <td>LinearSVC</td>\n",
       "      <td>0</td>\n",
       "      <td>0.514412</td>\n",
       "    </tr>\n",
       "    <tr>\n",
       "      <th>1</th>\n",
       "      <td>LinearSVC</td>\n",
       "      <td>1</td>\n",
       "      <td>0.513188</td>\n",
       "    </tr>\n",
       "    <tr>\n",
       "      <th>2</th>\n",
       "      <td>LinearSVC</td>\n",
       "      <td>2</td>\n",
       "      <td>0.513281</td>\n",
       "    </tr>\n",
       "    <tr>\n",
       "      <th>3</th>\n",
       "      <td>LinearSVC</td>\n",
       "      <td>3</td>\n",
       "      <td>0.512829</td>\n",
       "    </tr>\n",
       "    <tr>\n",
       "      <th>4</th>\n",
       "      <td>LinearSVC</td>\n",
       "      <td>4</td>\n",
       "      <td>0.515013</td>\n",
       "    </tr>\n",
       "    <tr>\n",
       "      <th>5</th>\n",
       "      <td>MultinomialNB</td>\n",
       "      <td>0</td>\n",
       "      <td>0.364772</td>\n",
       "    </tr>\n",
       "    <tr>\n",
       "      <th>6</th>\n",
       "      <td>MultinomialNB</td>\n",
       "      <td>1</td>\n",
       "      <td>0.366805</td>\n",
       "    </tr>\n",
       "    <tr>\n",
       "      <th>7</th>\n",
       "      <td>MultinomialNB</td>\n",
       "      <td>2</td>\n",
       "      <td>0.365293</td>\n",
       "    </tr>\n",
       "    <tr>\n",
       "      <th>8</th>\n",
       "      <td>MultinomialNB</td>\n",
       "      <td>3</td>\n",
       "      <td>0.364559</td>\n",
       "    </tr>\n",
       "    <tr>\n",
       "      <th>9</th>\n",
       "      <td>MultinomialNB</td>\n",
       "      <td>4</td>\n",
       "      <td>0.367180</td>\n",
       "    </tr>\n",
       "  </tbody>\n",
       "</table>\n",
       "</div>"
      ],
      "text/plain": [
       "      model_name  fold_idx  accuracy\n",
       "0      LinearSVC         0  0.514412\n",
       "1      LinearSVC         1  0.513188\n",
       "2      LinearSVC         2  0.513281\n",
       "3      LinearSVC         3  0.512829\n",
       "4      LinearSVC         4  0.515013\n",
       "5  MultinomialNB         0  0.364772\n",
       "6  MultinomialNB         1  0.366805\n",
       "7  MultinomialNB         2  0.365293\n",
       "8  MultinomialNB         3  0.364559\n",
       "9  MultinomialNB         4  0.367180"
      ]
     },
     "execution_count": 14,
     "metadata": {},
     "output_type": "execute_result"
    }
   ],
   "source": [
    "cv_df"
   ]
  },
  {
   "cell_type": "code",
   "execution_count": 15,
   "id": "7bb7d0ec",
   "metadata": {},
   "outputs": [
    {
     "data": {
      "text/plain": [
       "model_name\n",
       "LinearSVC        0.513744\n",
       "MultinomialNB    0.365722\n",
       "Name: accuracy, dtype: float64"
      ]
     },
     "execution_count": 15,
     "metadata": {},
     "output_type": "execute_result"
    }
   ],
   "source": [
    "cv_df.groupby('model_name').accuracy.mean()"
   ]
  },
  {
   "cell_type": "markdown",
   "id": "565b9a17",
   "metadata": {},
   "source": [
    "#### LinearSVC        "
   ]
  },
  {
   "cell_type": "code",
   "execution_count": 16,
   "id": "342c3e2f",
   "metadata": {},
   "outputs": [
    {
     "name": "stdout",
     "output_type": "stream",
     "text": [
      "Training Accuracy: 0.9968773981021068\n",
      "Testing Accuracy: 0.5412705806996346\n"
     ]
    }
   ],
   "source": [
    "model = Pipeline([('vect', CountVectorizer(ngram_range=(1,2))),\n",
    "                     ('tfidf', TfidfTransformer()),\n",
    "                     ('clf', LinearSVC(random_state=num_seed, tol=1e-5)),\n",
    "                    ])\n",
    "\n",
    "model.fit(X_train, y_train)\n",
    "\n",
    "y_pred = model.predict(X_test)\n",
    "\n",
    "print('Training Accuracy:',model.score(X_train,y_train))\n",
    "print('Testing Accuracy:',accuracy_score(y_test,y_pred))"
   ]
  },
  {
   "cell_type": "code",
   "execution_count": 17,
   "id": "b7d9d567",
   "metadata": {},
   "outputs": [
    {
     "name": "stdout",
     "output_type": "stream",
     "text": [
      "              precision    recall  f1-score   support\n",
      "\n",
      "          AE       0.43      0.43      0.43      7886\n",
      "          BH       0.40      0.30      0.34      7870\n",
      "          DZ       0.63      0.52      0.57      4769\n",
      "          EG       0.65      0.88      0.75     17326\n",
      "          IQ       0.64      0.53      0.58      4638\n",
      "          JO       0.44      0.33      0.38      8430\n",
      "          KW       0.47      0.61      0.53     12697\n",
      "          LB       0.61      0.68      0.64      8277\n",
      "          LY       0.67      0.69      0.68     11054\n",
      "          MA       0.76      0.60      0.67      3479\n",
      "          OM       0.45      0.34      0.39      5706\n",
      "          PL       0.48      0.54      0.51     13081\n",
      "          QA       0.47      0.50      0.48      9287\n",
      "          SA       0.42      0.44      0.43      7922\n",
      "          SD       0.72      0.55      0.62      4236\n",
      "          SY       0.50      0.29      0.37      4942\n",
      "          TN       0.69      0.44      0.54      2768\n",
      "          YE       0.46      0.17      0.25      3018\n",
      "\n",
      "    accuracy                           0.54    137386\n",
      "   macro avg       0.55      0.49      0.51    137386\n",
      "weighted avg       0.54      0.54      0.53    137386\n",
      "\n"
     ]
    }
   ],
   "source": [
    "target = df['dialect'].astype('category')\n",
    "print(classification_report(y_test, y_pred,target_names=target.cat.categories))"
   ]
  },
  {
   "cell_type": "markdown",
   "id": "f774a027",
   "metadata": {},
   "source": [
    "#### MultinomialNB"
   ]
  },
  {
   "cell_type": "code",
   "execution_count": 12,
   "id": "ce97cacd",
   "metadata": {},
   "outputs": [
    {
     "name": "stdout",
     "output_type": "stream",
     "text": [
      "Training Accuracy: 0.5711130590484984\n",
      "Testing Accuracy: 0.36494984932962604\n"
     ]
    }
   ],
   "source": [
    "model = Pipeline([('vect', CountVectorizer(ngram_range=(1,2))),\n",
    "                     ('tfidf', TfidfTransformer()),\n",
    "                     ('nb', MultinomialNB()),\n",
    "                    ])\n",
    "\n",
    "model.fit(X_train, y_train)\n",
    "\n",
    "y_pred = model.predict(X_test)\n",
    "\n",
    "print('Training Accuracy:',model.score(X_train,y_train))\n",
    "print('Testing Accuracy:',accuracy_score(y_test,y_pred))"
   ]
  },
  {
   "cell_type": "code",
   "execution_count": 13,
   "id": "967d1830",
   "metadata": {},
   "outputs": [
    {
     "name": "stdout",
     "output_type": "stream",
     "text": [
      "              precision    recall  f1-score   support\n",
      "\n",
      "          AE       0.74      0.09      0.17      7887\n",
      "          BH       0.80      0.06      0.11      7884\n",
      "          DZ       0.93      0.14      0.24      4853\n",
      "          EG       0.28      0.98      0.44     17285\n",
      "          IQ       0.97      0.06      0.11      4645\n",
      "          JO       0.75      0.05      0.10      8367\n",
      "          KW       0.29      0.76      0.42     12630\n",
      "          LB       0.82      0.38      0.52      8285\n",
      "          LY       0.71      0.49      0.58     10943\n",
      "          MA       0.98      0.13      0.23      3461\n",
      "          OM       0.98      0.02      0.04      5732\n",
      "          PL       0.34      0.58      0.43     13118\n",
      "          QA       0.55      0.32      0.40      9317\n",
      "          SA       0.63      0.11      0.19      8049\n",
      "          SD       0.99      0.04      0.07      4317\n",
      "          SY       0.98      0.03      0.06      4869\n",
      "          TN       0.93      0.01      0.02      2772\n",
      "          YE       1.00      0.01      0.02      2972\n",
      "\n",
      "    accuracy                           0.36    137386\n",
      "   macro avg       0.76      0.24      0.23    137386\n",
      "weighted avg       0.65      0.36      0.30    137386\n",
      "\n"
     ]
    }
   ],
   "source": [
    "target = df['dialect'].astype('category')\n",
    "print(classification_report(y_test, y_pred,target_names=target.cat.categories))"
   ]
  },
  {
   "cell_type": "code",
   "execution_count": 18,
   "id": "c5a732d6",
   "metadata": {},
   "outputs": [
    {
     "data": {
      "text/plain": [
       "['ML_dialect.joblib']"
      ]
     },
     "execution_count": 18,
     "metadata": {},
     "output_type": "execute_result"
    }
   ],
   "source": [
    "# dump the pipeline model\n",
    "dump(model, filename=\"ML_dialect.joblib\")"
   ]
  },
  {
   "cell_type": "markdown",
   "id": "f6cc0bcf",
   "metadata": {},
   "source": [
    "#### For `region_dialect` column as a target"
   ]
  },
  {
   "cell_type": "code",
   "execution_count": 14,
   "id": "0867ebac",
   "metadata": {},
   "outputs": [],
   "source": [
    "X_train, X_test, y_train, y_test = train_test('clean_text','region_dialect')"
   ]
  },
  {
   "cell_type": "code",
   "execution_count": 20,
   "id": "dd5a674f",
   "metadata": {},
   "outputs": [],
   "source": [
    "#feature extractin starts with counting the unique features\n",
    "from sklearn.feature_extraction.text import CountVectorizer\n",
    "count_vect = CountVectorizer()\n",
    "X_train_counts = count_vect.fit_transform(X_train)\n",
    "\n",
    "#then transforms the features\n",
    "from sklearn.feature_extraction.text import TfidfTransformer\n",
    "tf_transformer = TfidfTransformer(use_idf=False).fit(X_train_counts)\n",
    "X_train_tf = tf_transformer.transform(X_train_counts)"
   ]
  },
  {
   "cell_type": "code",
   "execution_count": 21,
   "id": "822188fa",
   "metadata": {},
   "outputs": [],
   "source": [
    "features = X_train_tf\n",
    "labels = y_train"
   ]
  },
  {
   "cell_type": "code",
   "execution_count": 22,
   "id": "86b14c5e",
   "metadata": {},
   "outputs": [],
   "source": [
    "models = [\n",
    "    LinearSVC(random_state=num_seed, tol=1e-5),\n",
    "    MultinomialNB()\n",
    "        ]\n",
    "\n",
    "CV = 5\n",
    "cv_df = pd.DataFrame(index=range(CV * len(models)))\n",
    "entries = []\n",
    "for model in models:\n",
    "    model_name = model.__class__.__name__\n",
    "    accuracies = cross_val_score(model, features, labels, scoring='accuracy', cv=CV)\n",
    "    for fold_idx, accuracy in enumerate(accuracies):\n",
    "        entries.append((model_name, fold_idx, accuracy))\n",
    "\n",
    "cv_df = pd.DataFrame(entries, columns=['model_name', 'fold_idx', 'accuracy'])"
   ]
  },
  {
   "cell_type": "code",
   "execution_count": 23,
   "id": "30e452ec",
   "metadata": {},
   "outputs": [
    {
     "data": {
      "text/html": [
       "<div>\n",
       "<style scoped>\n",
       "    .dataframe tbody tr th:only-of-type {\n",
       "        vertical-align: middle;\n",
       "    }\n",
       "\n",
       "    .dataframe tbody tr th {\n",
       "        vertical-align: top;\n",
       "    }\n",
       "\n",
       "    .dataframe thead th {\n",
       "        text-align: right;\n",
       "    }\n",
       "</style>\n",
       "<table border=\"1\" class=\"dataframe\">\n",
       "  <thead>\n",
       "    <tr style=\"text-align: right;\">\n",
       "      <th></th>\n",
       "      <th>model_name</th>\n",
       "      <th>fold_idx</th>\n",
       "      <th>accuracy</th>\n",
       "    </tr>\n",
       "  </thead>\n",
       "  <tbody>\n",
       "    <tr>\n",
       "      <th>0</th>\n",
       "      <td>LinearSVC</td>\n",
       "      <td>0</td>\n",
       "      <td>0.790561</td>\n",
       "    </tr>\n",
       "    <tr>\n",
       "      <th>1</th>\n",
       "      <td>LinearSVC</td>\n",
       "      <td>1</td>\n",
       "      <td>0.788904</td>\n",
       "    </tr>\n",
       "    <tr>\n",
       "      <th>2</th>\n",
       "      <td>LinearSVC</td>\n",
       "      <td>2</td>\n",
       "      <td>0.789247</td>\n",
       "    </tr>\n",
       "    <tr>\n",
       "      <th>3</th>\n",
       "      <td>LinearSVC</td>\n",
       "      <td>3</td>\n",
       "      <td>0.787672</td>\n",
       "    </tr>\n",
       "    <tr>\n",
       "      <th>4</th>\n",
       "      <td>LinearSVC</td>\n",
       "      <td>4</td>\n",
       "      <td>0.788498</td>\n",
       "    </tr>\n",
       "    <tr>\n",
       "      <th>5</th>\n",
       "      <td>MultinomialNB</td>\n",
       "      <td>0</td>\n",
       "      <td>0.702452</td>\n",
       "    </tr>\n",
       "    <tr>\n",
       "      <th>6</th>\n",
       "      <td>MultinomialNB</td>\n",
       "      <td>1</td>\n",
       "      <td>0.701449</td>\n",
       "    </tr>\n",
       "    <tr>\n",
       "      <th>7</th>\n",
       "      <td>MultinomialNB</td>\n",
       "      <td>2</td>\n",
       "      <td>0.701340</td>\n",
       "    </tr>\n",
       "    <tr>\n",
       "      <th>8</th>\n",
       "      <td>MultinomialNB</td>\n",
       "      <td>3</td>\n",
       "      <td>0.702135</td>\n",
       "    </tr>\n",
       "    <tr>\n",
       "      <th>9</th>\n",
       "      <td>MultinomialNB</td>\n",
       "      <td>4</td>\n",
       "      <td>0.702026</td>\n",
       "    </tr>\n",
       "  </tbody>\n",
       "</table>\n",
       "</div>"
      ],
      "text/plain": [
       "      model_name  fold_idx  accuracy\n",
       "0      LinearSVC         0  0.790561\n",
       "1      LinearSVC         1  0.788904\n",
       "2      LinearSVC         2  0.789247\n",
       "3      LinearSVC         3  0.787672\n",
       "4      LinearSVC         4  0.788498\n",
       "5  MultinomialNB         0  0.702452\n",
       "6  MultinomialNB         1  0.701449\n",
       "7  MultinomialNB         2  0.701340\n",
       "8  MultinomialNB         3  0.702135\n",
       "9  MultinomialNB         4  0.702026"
      ]
     },
     "execution_count": 23,
     "metadata": {},
     "output_type": "execute_result"
    }
   ],
   "source": [
    "cv_df"
   ]
  },
  {
   "cell_type": "code",
   "execution_count": 24,
   "id": "dc83feaa",
   "metadata": {},
   "outputs": [
    {
     "data": {
      "text/plain": [
       "model_name\n",
       "LinearSVC        0.788976\n",
       "MultinomialNB    0.701880\n",
       "Name: accuracy, dtype: float64"
      ]
     },
     "execution_count": 24,
     "metadata": {},
     "output_type": "execute_result"
    }
   ],
   "source": [
    "cv_df.groupby('model_name').accuracy.mean()"
   ]
  },
  {
   "cell_type": "markdown",
   "id": "c77f70a4",
   "metadata": {},
   "source": [
    "#### LinearSVC "
   ]
  },
  {
   "cell_type": "code",
   "execution_count": 25,
   "id": "03705165",
   "metadata": {},
   "outputs": [
    {
     "name": "stdout",
     "output_type": "stream",
     "text": [
      "Training Accuracy: 0.9968929955141843\n",
      "Testing Accuracy: 0.8023743321735839\n"
     ]
    }
   ],
   "source": [
    "model = Pipeline([('vect', CountVectorizer(ngram_range=(1,2))),\n",
    "                     ('tfidf', TfidfTransformer()),\n",
    "                     ('clf', LinearSVC(random_state=num_seed, tol=1e-5)),\n",
    "                    ])\n",
    "\n",
    "model.fit(X_train, y_train)\n",
    "\n",
    "y_pred = model.predict(X_test)\n",
    "\n",
    "print('Training Accuracy:',model.score(X_train,y_train))\n",
    "print('Testing Accuracy:',accuracy_score(y_test,y_pred))"
   ]
  },
  {
   "cell_type": "code",
   "execution_count": 26,
   "id": "8f1f4300",
   "metadata": {
    "scrolled": true
   },
   "outputs": [
    {
     "name": "stdout",
     "output_type": "stream",
     "text": [
      "              precision    recall  f1-score   support\n",
      "\n",
      "        Gulf       0.80      0.91      0.85     59024\n",
      "      Levant       0.80      0.73      0.76     34730\n",
      "     Maghreb       0.83      0.64      0.72     22070\n",
      "  Nile_Basin       0.78      0.80      0.79     21562\n",
      "\n",
      "    accuracy                           0.80    137386\n",
      "   macro avg       0.80      0.77      0.78    137386\n",
      "weighted avg       0.80      0.80      0.80    137386\n",
      "\n"
     ]
    }
   ],
   "source": [
    "target = df['region_dialect'].astype('category')\n",
    "print(classification_report(y_test, y_pred,target_names=target.cat.categories))"
   ]
  },
  {
   "cell_type": "markdown",
   "id": "1808dbc0",
   "metadata": {},
   "source": [
    "#### MultinomialNB    "
   ]
  },
  {
   "cell_type": "code",
   "execution_count": 15,
   "id": "0debce15",
   "metadata": {},
   "outputs": [
    {
     "name": "stdout",
     "output_type": "stream",
     "text": [
      "Training Accuracy: 0.788346897840389\n",
      "Testing Accuracy: 0.6550303524376574\n"
     ]
    }
   ],
   "source": [
    "model = Pipeline([('vect', CountVectorizer(ngram_range=(1,2))),\n",
    "                     ('tfidf', TfidfTransformer()),\n",
    "                     ('NB', MultinomialNB()),\n",
    "                    ])\n",
    "\n",
    "model.fit(X_train, y_train)\n",
    "\n",
    "y_pred = model.predict(X_test)\n",
    "\n",
    "print('Training Accuracy:',model.score(X_train,y_train))\n",
    "print('Testing Accuracy:',accuracy_score(y_test,y_pred))"
   ]
  },
  {
   "cell_type": "code",
   "execution_count": 16,
   "id": "a11d59b0",
   "metadata": {},
   "outputs": [
    {
     "name": "stdout",
     "output_type": "stream",
     "text": [
      "              precision    recall  f1-score   support\n",
      "\n",
      "        Gulf       0.58      0.99      0.73     59116\n",
      "      Levant       0.85      0.54      0.66     34639\n",
      "     Maghreb       0.99      0.22      0.36     22029\n",
      "  Nile_Basin       0.89      0.38      0.53     21602\n",
      "\n",
      "    accuracy                           0.66    137386\n",
      "   macro avg       0.83      0.53      0.57    137386\n",
      "weighted avg       0.76      0.66      0.62    137386\n",
      "\n"
     ]
    }
   ],
   "source": [
    "target = df['region_dialect'].astype('category')\n",
    "print(classification_report(y_test, y_pred,target_names=target.cat.categories))"
   ]
  },
  {
   "cell_type": "code",
   "execution_count": 27,
   "id": "ed239b90",
   "metadata": {},
   "outputs": [
    {
     "data": {
      "text/plain": [
       "['ML_region_dialect.joblib']"
      ]
     },
     "execution_count": 27,
     "metadata": {},
     "output_type": "execute_result"
    }
   ],
   "source": [
    "# dump the pipeline model\n",
    "dump(model, filename=\"ML_region_dialect.joblib\")"
   ]
  }
 ],
 "metadata": {
  "kernelspec": {
   "display_name": "Python 3",
   "language": "python",
   "name": "python3"
  },
  "language_info": {
   "codemirror_mode": {
    "name": "ipython",
    "version": 3
   },
   "file_extension": ".py",
   "mimetype": "text/x-python",
   "name": "python",
   "nbconvert_exporter": "python",
   "pygments_lexer": "ipython3",
   "version": "3.8.8"
  }
 },
 "nbformat": 4,
 "nbformat_minor": 5
}
